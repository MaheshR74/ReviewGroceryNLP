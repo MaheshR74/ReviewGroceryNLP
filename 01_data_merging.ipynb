{
 "cells": [
  {
   "cell_type": "markdown",
   "id": "e0bd154a",
   "metadata": {},
   "source": [
    "# Importing Necessory Libraries"
   ]
  },
  {
   "cell_type": "code",
   "execution_count": 1,
   "id": "4326db04",
   "metadata": {
    "ExecuteTime": {
     "end_time": "2022-09-10T05:54:19.029148Z",
     "start_time": "2022-09-10T05:54:09.799113Z"
    }
   },
   "outputs": [],
   "source": [
    "import pandas as pd\n",
    "import gzip\n",
    "import numpy as np\n",
    "import tensorflow as tf\n"
   ]
  },
  {
   "cell_type": "code",
   "execution_count": 2,
   "id": "b9362ad6",
   "metadata": {
    "ExecuteTime": {
     "end_time": "2022-09-10T05:54:19.045172Z",
     "start_time": "2022-09-10T05:54:19.033444Z"
    }
   },
   "outputs": [],
   "source": [
    "import gzip\n",
    "\n",
    "def parse(path):\n",
    "  g = gzip.open(path, 'rb')\n",
    "  for l in g:\n",
    "    yield eval(l)\n",
    "\n",
    "def getDF(path):\n",
    "  i = 0\n",
    "  df = {}\n",
    "  for d in parse(path):\n",
    "    df[i] = d\n",
    "    i += 1\n",
    "  return pd.DataFrame.from_dict(df, orient='index')\n"
   ]
  },
  {
   "cell_type": "markdown",
   "id": "0e0b9d77",
   "metadata": {},
   "source": [
    "# Extracting Data"
   ]
  },
  {
   "cell_type": "code",
   "execution_count": 3,
   "id": "45323c38",
   "metadata": {
    "ExecuteTime": {
     "end_time": "2022-09-10T05:56:43.317365Z",
     "start_time": "2022-09-10T05:54:19.049190Z"
    }
   },
   "outputs": [],
   "source": [
    "beauty_df = getDF('reviews_Beauty_5.json.gz')\n",
    "beauty_df['label'] = 0 #0 stand for beauty\n",
    "beauty_df = beauty_df[['reviewText','label']]\n",
    "\n",
    "grocery_df = getDF('reviews_Grocery_and_Gourmet_Food_5.json.gz')\n",
    "grocery_df['label'] = 1 #1 stand for Grocery_and_Gourme\n",
    "grocery_df = grocery_df[['reviewText','label']]\n",
    "\n",
    "home_df = getDF('reviews_Home_and_Kitchen_5.json.gz')\n",
    "home_df['label'] = 2 #2 stand for Home_and_Kitchen\n",
    "home_df = home_df[['reviewText','label']]\n",
    "\n",
    "Office_df = getDF('reviews_Office_Products_5.json.gz')\n",
    "Office_df['label'] = 3 #3 stand for Office_Products\n",
    "Office_df = Office_df[['reviewText','label']]\n",
    "\n",
    "Pet_df = getDF('reviews_Pet_Supplies_5.json.gz')\n",
    "Pet_df['label'] = 4 #4 stand for Pet_Supplies\n",
    "Pet_df = Pet_df[['reviewText','label']]"
   ]
  },
  {
   "cell_type": "markdown",
   "id": "76d6cfc4",
   "metadata": {},
   "source": [
    "# Treating data imbalancing Problem"
   ]
  },
  {
   "cell_type": "code",
   "execution_count": 4,
   "id": "6ce47955",
   "metadata": {
    "ExecuteTime": {
     "end_time": "2022-09-10T05:56:43.332719Z",
     "start_time": "2022-09-10T05:56:43.321963Z"
    }
   },
   "outputs": [],
   "source": [
    "beauty_df = beauty_df.head(53000)\n",
    "grocery_df = grocery_df.head(53000)\n",
    "home_df =home_df.head(53000)\n",
    "Office_df = Office_df.head(53000)\n",
    "Pet_df = Pet_df.head(53000)"
   ]
  },
  {
   "cell_type": "markdown",
   "id": "552232b8",
   "metadata": {},
   "source": [
    "# Merge"
   ]
  },
  {
   "cell_type": "code",
   "execution_count": 5,
   "id": "f31c7bcf",
   "metadata": {
    "ExecuteTime": {
     "end_time": "2022-09-10T05:56:43.363982Z",
     "start_time": "2022-09-10T05:56:43.336039Z"
    }
   },
   "outputs": [],
   "source": [
    "df = pd.concat([beauty_df,grocery_df,home_df,Office_df,Pet_df])"
   ]
  },
  {
   "cell_type": "code",
   "execution_count": 6,
   "id": "2b2e99b9",
   "metadata": {
    "ExecuteTime": {
     "end_time": "2022-09-10T05:56:43.487194Z",
     "start_time": "2022-09-10T05:56:43.367565Z"
    }
   },
   "outputs": [
    {
     "data": {
      "text/plain": [
       "reviewText    265000\n",
       "label         265000\n",
       "dtype: int64"
      ]
     },
     "execution_count": 6,
     "metadata": {},
     "output_type": "execute_result"
    }
   ],
   "source": [
    "df.count()"
   ]
  },
  {
   "cell_type": "markdown",
   "id": "3604c122",
   "metadata": {},
   "source": [
    "## Dropping Duplicate Records"
   ]
  },
  {
   "cell_type": "code",
   "execution_count": 7,
   "id": "0d4d9bbe",
   "metadata": {
    "ExecuteTime": {
     "end_time": "2022-09-10T05:56:44.609915Z",
     "start_time": "2022-09-10T05:56:43.492695Z"
    }
   },
   "outputs": [],
   "source": [
    "df = df.drop_duplicates()"
   ]
  },
  {
   "cell_type": "code",
   "execution_count": 8,
   "id": "6b146ee6",
   "metadata": {
    "ExecuteTime": {
     "end_time": "2022-09-10T05:56:44.720512Z",
     "start_time": "2022-09-10T05:56:44.614321Z"
    }
   },
   "outputs": [
    {
     "data": {
      "text/plain": [
       "reviewText    264857\n",
       "label         264857\n",
       "dtype: int64"
      ]
     },
     "execution_count": 8,
     "metadata": {},
     "output_type": "execute_result"
    }
   ],
   "source": [
    "df.count()"
   ]
  },
  {
   "cell_type": "markdown",
   "id": "df55b4ac",
   "metadata": {},
   "source": [
    "## write data in CSV format"
   ]
  },
  {
   "cell_type": "code",
   "execution_count": 10,
   "id": "d568be12",
   "metadata": {
    "ExecuteTime": {
     "end_time": "2022-09-10T05:57:26.749931Z",
     "start_time": "2022-09-10T05:57:18.514878Z"
    }
   },
   "outputs": [],
   "source": [
    "df.to_csv('Merged_data.csv')"
   ]
  },
  {
   "cell_type": "code",
   "execution_count": null,
   "id": "d94b309f",
   "metadata": {},
   "outputs": [],
   "source": []
  }
 ],
 "metadata": {
  "kernelspec": {
   "display_name": "Python 3 (ipykernel)",
   "language": "python",
   "name": "python3"
  },
  "language_info": {
   "codemirror_mode": {
    "name": "ipython",
    "version": 3
   },
   "file_extension": ".py",
   "mimetype": "text/x-python",
   "name": "python",
   "nbconvert_exporter": "python",
   "pygments_lexer": "ipython3",
   "version": "3.9.12"
  }
 },
 "nbformat": 4,
 "nbformat_minor": 5
}
