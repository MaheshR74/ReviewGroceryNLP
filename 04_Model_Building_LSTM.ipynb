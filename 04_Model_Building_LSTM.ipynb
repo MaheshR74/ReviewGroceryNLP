{
 "cells": [
  {
   "cell_type": "code",
   "execution_count": 1,
   "id": "74d8752d",
   "metadata": {
    "ExecuteTime": {
     "end_time": "2022-09-11T14:16:41.233946Z",
     "start_time": "2022-09-11T14:16:37.723174Z"
    }
   },
   "outputs": [],
   "source": [
    "import pandas as pd \n",
    "import numpy as np\n",
    "from sklearn.model_selection import train_test_split\n",
    "from tensorflow.keras.preprocessing.text import Tokenizer\n",
    "import matplotlib.pyplot as plt\n",
    "import pickle \n",
    "from tensorflow.keras.preprocessing.sequence import pad_sequences\n",
    "from tensorflow.keras.models import Sequential\n",
    "from tensorflow.keras.layers import Dense,Embedding,LSTM"
   ]
  },
  {
   "cell_type": "code",
   "execution_count": 2,
   "id": "b76e9c71",
   "metadata": {
    "ExecuteTime": {
     "end_time": "2022-09-11T14:16:42.270570Z",
     "start_time": "2022-09-11T14:16:41.234977Z"
    }
   },
   "outputs": [
    {
     "data": {
      "text/html": [
       "<div>\n",
       "<style scoped>\n",
       "    .dataframe tbody tr th:only-of-type {\n",
       "        vertical-align: middle;\n",
       "    }\n",
       "\n",
       "    .dataframe tbody tr th {\n",
       "        vertical-align: top;\n",
       "    }\n",
       "\n",
       "    .dataframe thead th {\n",
       "        text-align: right;\n",
       "    }\n",
       "</style>\n",
       "<table border=\"1\" class=\"dataframe\">\n",
       "  <thead>\n",
       "    <tr style=\"text-align: right;\">\n",
       "      <th></th>\n",
       "      <th>clean_text</th>\n",
       "      <th>label</th>\n",
       "    </tr>\n",
       "  </thead>\n",
       "  <tbody>\n",
       "    <tr>\n",
       "      <th>0</th>\n",
       "      <td>oily creamy expected ordered try highlight con...</td>\n",
       "      <td>0</td>\n",
       "    </tr>\n",
       "    <tr>\n",
       "      <th>1</th>\n",
       "      <td>palette decent price looking different shades ...</td>\n",
       "      <td>0</td>\n",
       "    </tr>\n",
       "    <tr>\n",
       "      <th>2</th>\n",
       "      <td>texture concealer pallet fantastic great cover...</td>\n",
       "      <td>0</td>\n",
       "    </tr>\n",
       "    <tr>\n",
       "      <th>3</th>\n",
       "      <td>really tell exactly thing powder kind oil ish ...</td>\n",
       "      <td>0</td>\n",
       "    </tr>\n",
       "    <tr>\n",
       "      <th>4</th>\n",
       "      <td>little smaller expected okay lasted long time ...</td>\n",
       "      <td>0</td>\n",
       "    </tr>\n",
       "  </tbody>\n",
       "</table>\n",
       "</div>"
      ],
      "text/plain": [
       "                                          clean_text  label\n",
       "0  oily creamy expected ordered try highlight con...      0\n",
       "1  palette decent price looking different shades ...      0\n",
       "2  texture concealer pallet fantastic great cover...      0\n",
       "3  really tell exactly thing powder kind oil ish ...      0\n",
       "4  little smaller expected okay lasted long time ...      0"
      ]
     },
     "execution_count": 2,
     "metadata": {},
     "output_type": "execute_result"
    }
   ],
   "source": [
    "df = pd.read_csv('clean_data.csv',index_col=0)\n",
    "df.head()"
   ]
  },
  {
   "cell_type": "code",
   "execution_count": 3,
   "id": "822095aa",
   "metadata": {
    "ExecuteTime": {
     "end_time": "2022-09-11T14:16:42.365751Z",
     "start_time": "2022-09-11T14:16:42.272487Z"
    }
   },
   "outputs": [],
   "source": [
    "df['clean_text'] = df['clean_text'].apply(lambda x:str(x))"
   ]
  },
  {
   "cell_type": "code",
   "execution_count": 4,
   "id": "2be09e92",
   "metadata": {
    "ExecuteTime": {
     "end_time": "2022-09-11T14:16:42.381579Z",
     "start_time": "2022-09-11T14:16:42.367751Z"
    }
   },
   "outputs": [],
   "source": [
    "x = df['clean_text']\n",
    "y = df['label']"
   ]
  },
  {
   "cell_type": "code",
   "execution_count": 5,
   "id": "e53ec51d",
   "metadata": {
    "ExecuteTime": {
     "end_time": "2022-09-11T14:16:42.429734Z",
     "start_time": "2022-09-11T14:16:42.384542Z"
    }
   },
   "outputs": [],
   "source": [
    "x_train,x_test,y_train,y_test = train_test_split(x,y,random_state=42,test_size=0.3)"
   ]
  },
  {
   "cell_type": "markdown",
   "id": "9f71f942",
   "metadata": {},
   "source": [
    "## Tokenization"
   ]
  },
  {
   "cell_type": "code",
   "execution_count": 6,
   "id": "c2454840",
   "metadata": {
    "ExecuteTime": {
     "end_time": "2022-09-11T14:16:42.445675Z",
     "start_time": "2022-09-11T14:16:42.431809Z"
    }
   },
   "outputs": [],
   "source": [
    "tok = Tokenizer(oov_token = '<UNK>')"
   ]
  },
  {
   "cell_type": "code",
   "execution_count": 7,
   "id": "129333ab",
   "metadata": {
    "ExecuteTime": {
     "end_time": "2022-09-11T14:16:42.461662Z",
     "start_time": "2022-09-11T14:16:42.447642Z"
    }
   },
   "outputs": [],
   "source": [
    "# we fit only on training data and just transform that on testing data"
   ]
  },
  {
   "cell_type": "code",
   "execution_count": 8,
   "id": "2b72a40b",
   "metadata": {
    "ExecuteTime": {
     "end_time": "2022-09-11T14:16:48.712662Z",
     "start_time": "2022-09-11T14:16:42.464657Z"
    }
   },
   "outputs": [],
   "source": [
    "#fitting on training data\n",
    "tok.fit_on_texts(x_train)"
   ]
  },
  {
   "cell_type": "code",
   "execution_count": 9,
   "id": "b52f22f8",
   "metadata": {
    "ExecuteTime": {
     "end_time": "2022-09-11T14:16:48.727597Z",
     "start_time": "2022-09-11T14:16:48.713597Z"
    }
   },
   "outputs": [
    {
     "data": {
      "text/plain": [
       "92705"
      ]
     },
     "execution_count": 9,
     "metadata": {},
     "output_type": "execute_result"
    }
   ],
   "source": [
    "len(tok.word_index)"
   ]
  },
  {
   "cell_type": "code",
   "execution_count": 10,
   "id": "2eb14860",
   "metadata": {
    "ExecuteTime": {
     "end_time": "2022-09-11T14:16:54.655466Z",
     "start_time": "2022-09-11T14:16:48.729598Z"
    }
   },
   "outputs": [],
   "source": [
    "# just transforming the test data\n",
    "train_sequences = tok.texts_to_sequences(x_train)\n",
    "test_sequences = tok.texts_to_sequences(x_test)"
   ]
  },
  {
   "cell_type": "code",
   "execution_count": 11,
   "id": "af4a73bc",
   "metadata": {
    "ExecuteTime": {
     "end_time": "2022-09-11T14:16:54.750394Z",
     "start_time": "2022-09-11T14:16:54.656948Z"
    }
   },
   "outputs": [],
   "source": [
    "with open('filename.pickle', 'wb') as handle:\n",
    "    pickle.dump(tok, handle, protocol=pickle.HIGHEST_PROTOCOL)\n"
   ]
  },
  {
   "cell_type": "markdown",
   "id": "f32da9cd",
   "metadata": {},
   "source": [
    "## Padding"
   ]
  },
  {
   "cell_type": "code",
   "execution_count": 12,
   "id": "f3788a37",
   "metadata": {
    "ExecuteTime": {
     "end_time": "2022-09-11T14:16:55.787787Z",
     "start_time": "2022-09-11T14:16:54.751841Z"
    }
   },
   "outputs": [
    {
     "data": {
      "text/plain": [
       "(array([77860., 78817., 41276., 23841., 14107.,  8816.,  5736.,  3758.,\n",
       "         2619.,  1945.]),\n",
       " array([  0.,  20.,  40.,  60.,  80., 100., 120., 140., 160., 180., 200.]),\n",
       " <BarContainer object of 10 artists>)"
      ]
     },
     "execution_count": 12,
     "metadata": {},
     "output_type": "execute_result"
    },
    {
     "data": {
      "image/png": "[encoded data removed]",
      "text/plain": [
       "<Figure size 432x288 with 1 Axes>"
      ]
     },
     "metadata": {
      "needs_background": "light"
     },
     "output_type": "display_data"
    }
   ],
   "source": [
    "plt.hist(df['clean_text'].apply(lambda x:len(x.split())),range = (0,200))"
   ]
  },
  {
   "cell_type": "code",
   "execution_count": 13,
   "id": "7297be70",
   "metadata": {
    "ExecuteTime": {
     "end_time": "2022-09-11T14:16:56.754420Z",
     "start_time": "2022-09-11T14:16:55.789830Z"
    }
   },
   "outputs": [],
   "source": [
    "x_train = pad_sequences(train_sequences,maxlen=100,padding='pre',truncating='pre')\n",
    "x_test = pad_sequences(test_sequences,maxlen=100,padding='pre',truncating='pre')"
   ]
  },
  {
   "cell_type": "markdown",
   "id": "8343beb7",
   "metadata": {},
   "source": [
    "## Model Fitting"
   ]
  },
  {
   "cell_type": "code",
   "execution_count": 14,
   "id": "800f7dd5",
   "metadata": {
    "ExecuteTime": {
     "end_time": "2022-09-11T14:16:57.799221Z",
     "start_time": "2022-09-11T14:16:56.757594Z"
    }
   },
   "outputs": [],
   "source": [
    "model = Sequential([\n",
    "    Embedding(92706,300),\n",
    "    LSTM(128),\n",
    "    Dense(100,activation='relu'),\n",
    "    Dense(6,activation='softmax')  \n",
    "    \n",
    "])"
   ]
  },
  {
   "cell_type": "code",
   "execution_count": 15,
   "id": "dde95172",
   "metadata": {
    "ExecuteTime": {
     "end_time": "2022-09-11T14:16:57.829489Z",
     "start_time": "2022-09-11T14:16:57.801800Z"
    }
   },
   "outputs": [
    {
     "name": "stdout",
     "output_type": "stream",
     "text": [
      "Model: \"sequential\"\n",
      "_________________________________________________________________\n",
      " Layer (type)                Output Shape              Param #   \n",
      "=================================================================\n",
      " embedding (Embedding)       (None, None, 300)         27811800  \n",
      "                                                                 \n",
      " lstm (LSTM)                 (None, 128)               219648    \n",
      "                                                                 \n",
      " dense (Dense)               (None, 100)               12900     \n",
      "                                                                 \n",
      " dense_1 (Dense)             (None, 6)                 606       \n",
      "                                                                 \n",
      "=================================================================\n",
      "Total params: 28,044,954\n",
      "Trainable params: 28,044,954\n",
      "Non-trainable params: 0\n",
      "_________________________________________________________________\n"
     ]
    }
   ],
   "source": [
    "model.summary()"
   ]
  },
  {
   "cell_type": "code",
   "execution_count": 16,
   "id": "40c89ab4",
   "metadata": {
    "ExecuteTime": {
     "end_time": "2022-09-11T14:16:57.860307Z",
     "start_time": "2022-09-11T14:16:57.832466Z"
    }
   },
   "outputs": [],
   "source": [
    "model.compile(optimizer='adam',loss= 'SparseCategoricalCrossentropy',metrics=['accuracy'])"
   ]
  },
  {
   "cell_type": "code",
   "execution_count": 17,
   "id": "d02d1a31",
   "metadata": {
    "ExecuteTime": {
     "end_time": "2022-09-11T15:55:39.058001Z",
     "start_time": "2022-09-11T14:16:57.863750Z"
    }
   },
   "outputs": [
    {
     "name": "stdout",
     "output_type": "stream",
     "text": [
      "Epoch 1/10\n",
      "371/371 [==============================] - 384s 1s/step - loss: 0.3748 - accuracy: 0.8619 - val_loss: 0.1764 - val_accuracy: 0.9416\n",
      "Epoch 2/10\n",
      "371/371 [==============================] - 354s 954ms/step - loss: 0.1130 - accuracy: 0.9637 - val_loss: 0.1643 - val_accuracy: 0.9471\n",
      "Epoch 3/10\n",
      "371/371 [==============================] - 768s 2s/step - loss: 0.0807 - accuracy: 0.9741 - val_loss: 0.1684 - val_accuracy: 0.9479\n",
      "Epoch 4/10\n",
      "371/371 [==============================] - 359s 967ms/step - loss: 0.0636 - accuracy: 0.9792 - val_loss: 0.1780 - val_accuracy: 0.9467\n",
      "Epoch 5/10\n",
      "371/371 [==============================] - 583s 2s/step - loss: 0.0514 - accuracy: 0.9832 - val_loss: 0.2016 - val_accuracy: 0.9443\n",
      "Epoch 6/10\n",
      "371/371 [==============================] - 660s 2s/step - loss: 0.0430 - accuracy: 0.9860 - val_loss: 0.2152 - val_accuracy: 0.9407\n",
      "Epoch 7/10\n",
      "371/371 [==============================] - 716s 2s/step - loss: 0.0352 - accuracy: 0.9884 - val_loss: 0.2376 - val_accuracy: 0.9401\n",
      "Epoch 8/10\n",
      "371/371 [==============================] - 699s 2s/step - loss: 0.0325 - accuracy: 0.9894 - val_loss: 0.2503 - val_accuracy: 0.9400\n",
      "Epoch 9/10\n",
      "371/371 [==============================] - 677s 2s/step - loss: 0.0260 - accuracy: 0.9912 - val_loss: 0.2717 - val_accuracy: 0.9401\n",
      "Epoch 10/10\n",
      "371/371 [==============================] - 721s 2s/step - loss: 0.0215 - accuracy: 0.9928 - val_loss: 0.2898 - val_accuracy: 0.9406\n"
     ]
    }
   ],
   "source": [
    "history = model.fit(x_train,y_train,batch_size=500,epochs=10,validation_data=(x_test,y_test))"
   ]
  },
  {
   "cell_type": "code",
   "execution_count": 18,
   "id": "d600f106",
   "metadata": {
    "ExecuteTime": {
     "end_time": "2022-09-11T15:55:39.962430Z",
     "start_time": "2022-09-11T15:55:39.150847Z"
    }
   },
   "outputs": [
    {
     "data": {
      "text/plain": [
       "<matplotlib.legend.Legend at 0x2a140527bb0>"
      ]
     },
     "execution_count": 18,
     "metadata": {},
     "output_type": "execute_result"
    },
    {
     "data": {
      "image/png": "[encoded data removed]",
      "text/plain": [
       "<Figure size 432x288 with 1 Axes>"
      ]
     },
     "metadata": {
      "needs_background": "light"
     },
     "output_type": "display_data"
    }
   ],
   "source": [
    "plt.plot(history.history['loss'])\n",
    "plt.plot(history.history['val_loss'])\n",
    "plt.xlabel('Epochs')\n",
    "plt.ylabel('Loss')\n",
    "plt.title('Loss Plot')\n",
    "plt.legend(['train','test'])"
   ]
  },
  {
   "cell_type": "code",
   "execution_count": 19,
   "id": "ecaaff18",
   "metadata": {
    "ExecuteTime": {
     "end_time": "2022-09-11T15:55:42.037679Z",
     "start_time": "2022-09-11T15:55:39.967064Z"
    }
   },
   "outputs": [],
   "source": [
    "model.save('LSTM_Model.h5')"
   ]
  },
  {
   "cell_type": "code",
   "execution_count": null,
   "id": "33b4f908",
   "metadata": {},
   "outputs": [],
   "source": []
  }
 ],
 "metadata": {
  "kernelspec": {
   "display_name": "Python 3 (ipykernel)",
   "language": "python",
   "name": "python3"
  },
  "language_info": {
   "codemirror_mode": {
    "name": "ipython",
    "version": 3
   },
   "file_extension": ".py",
   "mimetype": "text/x-python",
   "name": "python",
   "nbconvert_exporter": "python",
   "pygments_lexer": "ipython3",
   "version": "3.9.12"
  }
 },
 "nbformat": 4,
 "nbformat_minor": 5
}
