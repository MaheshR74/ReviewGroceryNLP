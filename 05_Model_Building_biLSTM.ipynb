{
 "cells": [
  {
   "cell_type": "code",
   "execution_count": 1,
   "id": "74d8752d",
   "metadata": {
    "ExecuteTime": {
     "end_time": "2022-09-11T14:48:20.687527Z",
     "start_time": "2022-09-11T14:48:08.944093Z"
    }
   },
   "outputs": [],
   "source": [
    "import pandas as pd \n",
    "import numpy as np\n",
    "from sklearn.model_selection import train_test_split\n",
    "from tensorflow.keras.preprocessing.text import Tokenizer\n",
    "import matplotlib.pyplot as plt\n",
    "import pickle \n",
    "from tensorflow.keras.preprocessing.sequence import pad_sequences\n",
    "from tensorflow.keras.models import Sequential\n",
    "from tensorflow.keras.layers import Dense,Embedding,LSTM,Bidirectional"
   ]
  },
  {
   "cell_type": "code",
   "execution_count": 2,
   "id": "b76e9c71",
   "metadata": {
    "ExecuteTime": {
     "end_time": "2022-09-11T14:48:23.822666Z",
     "start_time": "2022-09-11T14:48:20.708219Z"
    }
   },
   "outputs": [
    {
     "data": {
      "text/html": [
       "<div>\n",
       "<style scoped>\n",
       "    .dataframe tbody tr th:only-of-type {\n",
       "        vertical-align: middle;\n",
       "    }\n",
       "\n",
       "    .dataframe tbody tr th {\n",
       "        vertical-align: top;\n",
       "    }\n",
       "\n",
       "    .dataframe thead th {\n",
       "        text-align: right;\n",
       "    }\n",
       "</style>\n",
       "<table border=\"1\" class=\"dataframe\">\n",
       "  <thead>\n",
       "    <tr style=\"text-align: right;\">\n",
       "      <th></th>\n",
       "      <th>clean_text</th>\n",
       "      <th>label</th>\n",
       "    </tr>\n",
       "  </thead>\n",
       "  <tbody>\n",
       "    <tr>\n",
       "      <th>0</th>\n",
       "      <td>oily creamy expected ordered try highlight con...</td>\n",
       "      <td>0</td>\n",
       "    </tr>\n",
       "    <tr>\n",
       "      <th>1</th>\n",
       "      <td>palette decent price looking different shades ...</td>\n",
       "      <td>0</td>\n",
       "    </tr>\n",
       "    <tr>\n",
       "      <th>2</th>\n",
       "      <td>texture concealer pallet fantastic great cover...</td>\n",
       "      <td>0</td>\n",
       "    </tr>\n",
       "    <tr>\n",
       "      <th>3</th>\n",
       "      <td>really tell exactly thing powder kind oil ish ...</td>\n",
       "      <td>0</td>\n",
       "    </tr>\n",
       "    <tr>\n",
       "      <th>4</th>\n",
       "      <td>little smaller expected okay lasted long time ...</td>\n",
       "      <td>0</td>\n",
       "    </tr>\n",
       "  </tbody>\n",
       "</table>\n",
       "</div>"
      ],
      "text/plain": [
       "                                          clean_text  label\n",
       "0  oily creamy expected ordered try highlight con...      0\n",
       "1  palette decent price looking different shades ...      0\n",
       "2  texture concealer pallet fantastic great cover...      0\n",
       "3  really tell exactly thing powder kind oil ish ...      0\n",
       "4  little smaller expected okay lasted long time ...      0"
      ]
     },
     "execution_count": 2,
     "metadata": {},
     "output_type": "execute_result"
    }
   ],
   "source": [
    "df = pd.read_csv('clean_data.csv',index_col=0)\n",
    "df.head()"
   ]
  },
  {
   "cell_type": "code",
   "execution_count": 3,
   "id": "822095aa",
   "metadata": {
    "ExecuteTime": {
     "end_time": "2022-09-11T14:48:24.006563Z",
     "start_time": "2022-09-11T14:48:23.827579Z"
    }
   },
   "outputs": [],
   "source": [
    "df['clean_text'] = df['clean_text'].apply(lambda x:str(x))"
   ]
  },
  {
   "cell_type": "code",
   "execution_count": 4,
   "id": "2be09e92",
   "metadata": {
    "ExecuteTime": {
     "end_time": "2022-09-11T14:48:24.022980Z",
     "start_time": "2022-09-11T14:48:24.012307Z"
    }
   },
   "outputs": [],
   "source": [
    "x = df['clean_text']\n",
    "y = df['label']"
   ]
  },
  {
   "cell_type": "code",
   "execution_count": 5,
   "id": "e53ec51d",
   "metadata": {
    "ExecuteTime": {
     "end_time": "2022-09-11T14:48:24.330924Z",
     "start_time": "2022-09-11T14:48:24.027098Z"
    }
   },
   "outputs": [],
   "source": [
    "x_train,x_test,y_train,y_test = train_test_split(x,y,random_state=42,test_size=0.3)"
   ]
  },
  {
   "cell_type": "markdown",
   "id": "9f71f942",
   "metadata": {},
   "source": [
    "## Tokenization"
   ]
  },
  {
   "cell_type": "code",
   "execution_count": 6,
   "id": "c2454840",
   "metadata": {
    "ExecuteTime": {
     "end_time": "2022-09-11T14:48:24.347656Z",
     "start_time": "2022-09-11T14:48:24.335191Z"
    }
   },
   "outputs": [],
   "source": [
    "tok = Tokenizer(oov_token = '<UNK>')"
   ]
  },
  {
   "cell_type": "code",
   "execution_count": 7,
   "id": "129333ab",
   "metadata": {
    "ExecuteTime": {
     "end_time": "2022-09-11T14:48:24.377674Z",
     "start_time": "2022-09-11T14:48:24.354560Z"
    }
   },
   "outputs": [],
   "source": [
    "# we fit only on training data and just transform that on testing data"
   ]
  },
  {
   "cell_type": "code",
   "execution_count": 8,
   "id": "2b72a40b",
   "metadata": {
    "ExecuteTime": {
     "end_time": "2022-09-11T14:48:49.866014Z",
     "start_time": "2022-09-11T14:48:24.383386Z"
    }
   },
   "outputs": [],
   "source": [
    "#fitting on training data\n",
    "tok.fit_on_texts(x_train)"
   ]
  },
  {
   "cell_type": "code",
   "execution_count": 9,
   "id": "b52f22f8",
   "metadata": {
    "ExecuteTime": {
     "end_time": "2022-09-11T14:48:49.878319Z",
     "start_time": "2022-09-11T14:48:49.868852Z"
    }
   },
   "outputs": [
    {
     "data": {
      "text/plain": [
       "92705"
      ]
     },
     "execution_count": 9,
     "metadata": {},
     "output_type": "execute_result"
    }
   ],
   "source": [
    "len(tok.word_index)"
   ]
  },
  {
   "cell_type": "code",
   "execution_count": 10,
   "id": "2eb14860",
   "metadata": {
    "ExecuteTime": {
     "end_time": "2022-09-11T14:49:12.091641Z",
     "start_time": "2022-09-11T14:48:49.884399Z"
    }
   },
   "outputs": [],
   "source": [
    "# just transforming the test data\n",
    "train_sequences = tok.texts_to_sequences(x_train)\n",
    "test_sequences = tok.texts_to_sequences(x_test)"
   ]
  },
  {
   "cell_type": "code",
   "execution_count": 11,
   "id": "af4a73bc",
   "metadata": {
    "ExecuteTime": {
     "end_time": "2022-09-11T14:49:12.368370Z",
     "start_time": "2022-09-11T14:49:12.097574Z"
    }
   },
   "outputs": [],
   "source": [
    "with open('filename.pickle', 'wb') as handle:\n",
    "    pickle.dump(tok, handle, protocol=pickle.HIGHEST_PROTOCOL)\n"
   ]
  },
  {
   "cell_type": "markdown",
   "id": "f32da9cd",
   "metadata": {},
   "source": [
    "## Padding"
   ]
  },
  {
   "cell_type": "code",
   "execution_count": 12,
   "id": "f3788a37",
   "metadata": {
    "ExecuteTime": {
     "end_time": "2022-09-11T14:49:15.206235Z",
     "start_time": "2022-09-11T14:49:12.371495Z"
    }
   },
   "outputs": [
    {
     "data": {
      "text/plain": [
       "(array([77860., 78817., 41276., 23841., 14107.,  8816.,  5736.,  3758.,\n",
       "         2619.,  1945.]),\n",
       " array([  0.,  20.,  40.,  60.,  80., 100., 120., 140., 160., 180., 200.]),\n",
       " <BarContainer object of 10 artists>)"
      ]
     },
     "execution_count": 12,
     "metadata": {},
     "output_type": "execute_result"
    },
    {
     "data": {
      "image/png": "[encoded data removed]",
      "text/plain": [
       "<Figure size 432x288 with 1 Axes>"
      ]
     },
     "metadata": {
      "needs_background": "light"
     },
     "output_type": "display_data"
    }
   ],
   "source": [
    "plt.hist(df['clean_text'].apply(lambda x:len(x.split())),range = (0,200))"
   ]
  },
  {
   "cell_type": "code",
   "execution_count": 13,
   "id": "7297be70",
   "metadata": {
    "ExecuteTime": {
     "end_time": "2022-09-11T14:49:18.572811Z",
     "start_time": "2022-09-11T14:49:15.206734Z"
    }
   },
   "outputs": [],
   "source": [
    "x_train = pad_sequences(train_sequences,maxlen=100,padding='pre',truncating='pre')\n",
    "x_test = pad_sequences(test_sequences,maxlen=100,padding='pre',truncating='pre')"
   ]
  },
  {
   "cell_type": "markdown",
   "id": "8343beb7",
   "metadata": {},
   "source": [
    "## Model Fitting"
   ]
  },
  {
   "cell_type": "code",
   "execution_count": 14,
   "id": "800f7dd5",
   "metadata": {
    "ExecuteTime": {
     "end_time": "2022-09-11T14:49:21.318842Z",
     "start_time": "2022-09-11T14:49:18.577321Z"
    }
   },
   "outputs": [],
   "source": [
    "model = Sequential([\n",
    "    Embedding(92706,300),\n",
    "    Bidirectional(LSTM(128)),\n",
    "    Dense(100,activation='relu'),\n",
    "    Dense(6,activation='softmax')  \n",
    "    \n",
    "])"
   ]
  },
  {
   "cell_type": "code",
   "execution_count": 15,
   "id": "dde95172",
   "metadata": {
    "ExecuteTime": {
     "end_time": "2022-09-11T14:49:21.391648Z",
     "start_time": "2022-09-11T14:49:21.318842Z"
    }
   },
   "outputs": [
    {
     "name": "stdout",
     "output_type": "stream",
     "text": [
      "Model: \"sequential\"\n",
      "_________________________________________________________________\n",
      " Layer (type)                Output Shape              Param #   \n",
      "=================================================================\n",
      " embedding (Embedding)       (None, None, 300)         27811800  \n",
      "                                                                 \n",
      " bidirectional (Bidirectiona  (None, 256)              439296    \n",
      " l)                                                              \n",
      "                                                                 \n",
      " dense (Dense)               (None, 100)               25700     \n",
      "                                                                 \n",
      " dense_1 (Dense)             (None, 6)                 606       \n",
      "                                                                 \n",
      "=================================================================\n",
      "Total params: 28,277,402\n",
      "Trainable params: 28,277,402\n",
      "Non-trainable params: 0\n",
      "_________________________________________________________________\n"
     ]
    }
   ],
   "source": [
    "model.summary()"
   ]
  },
  {
   "cell_type": "code",
   "execution_count": 16,
   "id": "40c89ab4",
   "metadata": {
    "ExecuteTime": {
     "end_time": "2022-09-11T14:49:21.441503Z",
     "start_time": "2022-09-11T14:49:21.395025Z"
    }
   },
   "outputs": [],
   "source": [
    "model.compile(optimizer='adam',loss= 'SparseCategoricalCrossentropy',metrics=['accuracy'])"
   ]
  },
  {
   "cell_type": "code",
   "execution_count": 17,
   "id": "d02d1a31",
   "metadata": {
    "ExecuteTime": {
     "end_time": "2022-09-11T17:02:05.899266Z",
     "start_time": "2022-09-11T14:49:21.444243Z"
    }
   },
   "outputs": [
    {
     "name": "stdout",
     "output_type": "stream",
     "text": [
      "Epoch 1/10\n",
      "371/371 [==============================] - 1111s 3s/step - loss: 0.3541 - accuracy: 0.8685 - val_loss: 0.1651 - val_accuracy: 0.9469\n",
      "Epoch 2/10\n",
      "371/371 [==============================] - 1126s 3s/step - loss: 0.1162 - accuracy: 0.9632 - val_loss: 0.1631 - val_accuracy: 0.9475\n",
      "Epoch 3/10\n",
      "371/371 [==============================] - 1080s 3s/step - loss: 0.0838 - accuracy: 0.9730 - val_loss: 0.1752 - val_accuracy: 0.9458\n",
      "Epoch 4/10\n",
      "371/371 [==============================] - 923s 2s/step - loss: 0.0647 - accuracy: 0.9791 - val_loss: 0.1929 - val_accuracy: 0.9447\n",
      "Epoch 5/10\n",
      "371/371 [==============================] - 614s 2s/step - loss: 0.0541 - accuracy: 0.9826 - val_loss: 0.2049 - val_accuracy: 0.9441\n",
      "Epoch 6/10\n",
      "371/371 [==============================] - 605s 2s/step - loss: 0.0468 - accuracy: 0.9847 - val_loss: 0.2225 - val_accuracy: 0.9419\n",
      "Epoch 7/10\n",
      "371/371 [==============================] - 627s 2s/step - loss: 0.0385 - accuracy: 0.9875 - val_loss: 0.2455 - val_accuracy: 0.9418\n",
      "Epoch 8/10\n",
      "371/371 [==============================] - 624s 2s/step - loss: 0.0381 - accuracy: 0.9879 - val_loss: 0.2378 - val_accuracy: 0.9410\n",
      "Epoch 9/10\n",
      "371/371 [==============================] - 624s 2s/step - loss: 0.0284 - accuracy: 0.9907 - val_loss: 0.2636 - val_accuracy: 0.9418\n",
      "Epoch 10/10\n",
      "371/371 [==============================] - 631s 2s/step - loss: 0.0233 - accuracy: 0.9922 - val_loss: 0.2904 - val_accuracy: 0.9397\n"
     ]
    }
   ],
   "source": [
    "history = model.fit(x_train,y_train,batch_size=500,epochs=10,validation_data=(x_test,y_test))"
   ]
  },
  {
   "cell_type": "code",
   "execution_count": 18,
   "id": "d600f106",
   "metadata": {
    "ExecuteTime": {
     "end_time": "2022-09-11T17:02:06.296681Z",
     "start_time": "2022-09-11T17:02:05.941596Z"
    }
   },
   "outputs": [
    {
     "data": {
      "text/plain": [
       "<matplotlib.legend.Legend at 0x186d60ead00>"
      ]
     },
     "execution_count": 18,
     "metadata": {},
     "output_type": "execute_result"
    },
    {
     "data": {
      "image/png": "[encoded data removed]",
      "text/plain": [
       "<Figure size 432x288 with 1 Axes>"
      ]
     },
     "metadata": {
      "needs_background": "light"
     },
     "output_type": "display_data"
    }
   ],
   "source": [
    "plt.plot(history.history['loss'])\n",
    "plt.plot(history.history['val_loss'])\n",
    "plt.xlabel('Epochs')\n",
    "plt.ylabel('Loss')\n",
    "plt.title('Loss Plot')\n",
    "plt.legend(['train','test'])"
   ]
  },
  {
   "cell_type": "code",
   "execution_count": 20,
   "id": "ecaaff18",
   "metadata": {
    "ExecuteTime": {
     "end_time": "2022-09-11T17:03:52.323147Z",
     "start_time": "2022-09-11T17:03:51.844621Z"
    }
   },
   "outputs": [],
   "source": [
    "model.save('biLSTM_Model.h5')"
   ]
  },
  {
   "cell_type": "code",
   "execution_count": null,
   "id": "33b4f908",
   "metadata": {},
   "outputs": [],
   "source": []
  }
 ],
 "metadata": {
  "kernelspec": {
   "display_name": "Python 3 (ipykernel)",
   "language": "python",
   "name": "python3"
  },
  "language_info": {
   "codemirror_mode": {
    "name": "ipython",
    "version": 3
   },
   "file_extension": ".py",
   "mimetype": "text/x-python",
   "name": "python",
   "nbconvert_exporter": "python",
   "pygments_lexer": "ipython3",
   "version": "3.9.12"
  }
 },
 "nbformat": 4,
 "nbformat_minor": 5
}
