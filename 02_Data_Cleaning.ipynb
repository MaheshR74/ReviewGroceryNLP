{
 "cells": [
  {
   "cell_type": "code",
   "execution_count": 1,
   "id": "001450bb",
   "metadata": {
    "ExecuteTime": {
     "end_time": "2022-09-10T06:15:44.886946Z",
     "start_time": "2022-09-10T06:15:36.618476Z"
    }
   },
   "outputs": [
    {
     "name": "stderr",
     "output_type": "stream",
     "text": [
      "[nltk_data] Downloading package stopwords to\n",
      "[nltk_data]     C:\\Users\\Mahesh\\AppData\\Roaming\\nltk_data...\n",
      "[nltk_data]   Package stopwords is already up-to-date!\n"
     ]
    }
   ],
   "source": [
    "import pandas as pd\n",
    "import gzip\n",
    "import numpy as np\n",
    "import tensorflow as tf\n",
    "import regex as re\n",
    "import nltk \n",
    "nltk.download('stopwords')\n",
    "from nltk.corpus import stopwords\n",
    "stop = stopwords.words('english')\n",
    "from sklearn.preprocessing import LabelEncoder"
   ]
  },
  {
   "cell_type": "code",
   "execution_count": 2,
   "id": "278404f4",
   "metadata": {
    "ExecuteTime": {
     "end_time": "2022-09-10T06:15:46.842795Z",
     "start_time": "2022-09-10T06:15:44.889889Z"
    }
   },
   "outputs": [],
   "source": [
    "df = pd.read_csv('Merged_data.csv',index_col=0)"
   ]
  },
  {
   "cell_type": "code",
   "execution_count": 3,
   "id": "d2b6faef",
   "metadata": {
    "ExecuteTime": {
     "end_time": "2022-09-10T06:15:46.874276Z",
     "start_time": "2022-09-10T06:15:46.845737Z"
    }
   },
   "outputs": [
    {
     "data": {
      "text/html": [
       "<div>\n",
       "<style scoped>\n",
       "    .dataframe tbody tr th:only-of-type {\n",
       "        vertical-align: middle;\n",
       "    }\n",
       "\n",
       "    .dataframe tbody tr th {\n",
       "        vertical-align: top;\n",
       "    }\n",
       "\n",
       "    .dataframe thead th {\n",
       "        text-align: right;\n",
       "    }\n",
       "</style>\n",
       "<table border=\"1\" class=\"dataframe\">\n",
       "  <thead>\n",
       "    <tr style=\"text-align: right;\">\n",
       "      <th></th>\n",
       "      <th>reviewText</th>\n",
       "      <th>label</th>\n",
       "    </tr>\n",
       "  </thead>\n",
       "  <tbody>\n",
       "    <tr>\n",
       "      <th>0</th>\n",
       "      <td>Very oily and creamy. Not at all what I expect...</td>\n",
       "      <td>0</td>\n",
       "    </tr>\n",
       "    <tr>\n",
       "      <th>1</th>\n",
       "      <td>This palette was a decent price and I was look...</td>\n",
       "      <td>0</td>\n",
       "    </tr>\n",
       "    <tr>\n",
       "      <th>2</th>\n",
       "      <td>The texture of this concealer pallet is fantas...</td>\n",
       "      <td>0</td>\n",
       "    </tr>\n",
       "    <tr>\n",
       "      <th>3</th>\n",
       "      <td>I really can't tell what exactly this thing is...</td>\n",
       "      <td>0</td>\n",
       "    </tr>\n",
       "    <tr>\n",
       "      <th>4</th>\n",
       "      <td>It was a little smaller than I expected, but t...</td>\n",
       "      <td>0</td>\n",
       "    </tr>\n",
       "  </tbody>\n",
       "</table>\n",
       "</div>"
      ],
      "text/plain": [
       "                                          reviewText  label\n",
       "0  Very oily and creamy. Not at all what I expect...      0\n",
       "1  This palette was a decent price and I was look...      0\n",
       "2  The texture of this concealer pallet is fantas...      0\n",
       "3  I really can't tell what exactly this thing is...      0\n",
       "4  It was a little smaller than I expected, but t...      0"
      ]
     },
     "execution_count": 3,
     "metadata": {},
     "output_type": "execute_result"
    }
   ],
   "source": [
    "df.head()"
   ]
  },
  {
   "cell_type": "markdown",
   "id": "5e358255",
   "metadata": {},
   "source": [
    "# Data cleaning"
   ]
  },
  {
   "cell_type": "code",
   "execution_count": 6,
   "id": "6350a4f0",
   "metadata": {
    "ExecuteTime": {
     "end_time": "2022-09-10T06:21:02.772271Z",
     "start_time": "2022-09-10T06:21:02.758835Z"
    }
   },
   "outputs": [],
   "source": [
    "def data_cleaning(text):\n",
    "    text = str(text)\n",
    "    text = text.lower() # convert everything into lower case\n",
    "    text = re.sub(\"http\\S+\",\" \",text,flags = re.MULTILINE) #Replacing hyperlink with a space\n",
    "    text = re.sub(\"[^a-z]\",\" \",text) #only allowed small a-z\n",
    "    text = re.sub(\"\\.+\",\" \",text) #replace multiple dots with a space\n",
    "    words = text.split()\n",
    "    imp_words = [w for w in words if w not in stop]\n",
    "    return ' '.join(imp_words)"
   ]
  },
  {
   "cell_type": "code",
   "execution_count": 7,
   "id": "3c666382",
   "metadata": {
    "ExecuteTime": {
     "end_time": "2022-09-10T06:22:00.253500Z",
     "start_time": "2022-09-10T06:21:03.470220Z"
    }
   },
   "outputs": [],
   "source": [
    "df['clean_text'] = df['reviewText'].apply(lambda x: data_cleaning(x))"
   ]
  },
  {
   "cell_type": "code",
   "execution_count": 8,
   "id": "597ba69f",
   "metadata": {
    "ExecuteTime": {
     "end_time": "2022-09-10T06:22:00.283688Z",
     "start_time": "2022-09-10T06:22:00.266577Z"
    }
   },
   "outputs": [
    {
     "data": {
      "text/html": [
       "<div>\n",
       "<style scoped>\n",
       "    .dataframe tbody tr th:only-of-type {\n",
       "        vertical-align: middle;\n",
       "    }\n",
       "\n",
       "    .dataframe tbody tr th {\n",
       "        vertical-align: top;\n",
       "    }\n",
       "\n",
       "    .dataframe thead th {\n",
       "        text-align: right;\n",
       "    }\n",
       "</style>\n",
       "<table border=\"1\" class=\"dataframe\">\n",
       "  <thead>\n",
       "    <tr style=\"text-align: right;\">\n",
       "      <th></th>\n",
       "      <th>reviewText</th>\n",
       "      <th>label</th>\n",
       "      <th>clean_text</th>\n",
       "    </tr>\n",
       "  </thead>\n",
       "  <tbody>\n",
       "    <tr>\n",
       "      <th>0</th>\n",
       "      <td>Very oily and creamy. Not at all what I expect...</td>\n",
       "      <td>0</td>\n",
       "      <td>oily creamy expected ordered try highlight con...</td>\n",
       "    </tr>\n",
       "    <tr>\n",
       "      <th>1</th>\n",
       "      <td>This palette was a decent price and I was look...</td>\n",
       "      <td>0</td>\n",
       "      <td>palette decent price looking different shades ...</td>\n",
       "    </tr>\n",
       "    <tr>\n",
       "      <th>2</th>\n",
       "      <td>The texture of this concealer pallet is fantas...</td>\n",
       "      <td>0</td>\n",
       "      <td>texture concealer pallet fantastic great cover...</td>\n",
       "    </tr>\n",
       "    <tr>\n",
       "      <th>3</th>\n",
       "      <td>I really can't tell what exactly this thing is...</td>\n",
       "      <td>0</td>\n",
       "      <td>really tell exactly thing powder kind oil ish ...</td>\n",
       "    </tr>\n",
       "    <tr>\n",
       "      <th>4</th>\n",
       "      <td>It was a little smaller than I expected, but t...</td>\n",
       "      <td>0</td>\n",
       "      <td>little smaller expected okay lasted long time ...</td>\n",
       "    </tr>\n",
       "  </tbody>\n",
       "</table>\n",
       "</div>"
      ],
      "text/plain": [
       "                                          reviewText  label  \\\n",
       "0  Very oily and creamy. Not at all what I expect...      0   \n",
       "1  This palette was a decent price and I was look...      0   \n",
       "2  The texture of this concealer pallet is fantas...      0   \n",
       "3  I really can't tell what exactly this thing is...      0   \n",
       "4  It was a little smaller than I expected, but t...      0   \n",
       "\n",
       "                                          clean_text  \n",
       "0  oily creamy expected ordered try highlight con...  \n",
       "1  palette decent price looking different shades ...  \n",
       "2  texture concealer pallet fantastic great cover...  \n",
       "3  really tell exactly thing powder kind oil ish ...  \n",
       "4  little smaller expected okay lasted long time ...  "
      ]
     },
     "execution_count": 8,
     "metadata": {},
     "output_type": "execute_result"
    }
   ],
   "source": [
    "df.head()"
   ]
  },
  {
   "cell_type": "code",
   "execution_count": 9,
   "id": "732f7933",
   "metadata": {
    "ExecuteTime": {
     "end_time": "2022-09-10T06:22:00.545889Z",
     "start_time": "2022-09-10T06:22:00.491674Z"
    }
   },
   "outputs": [],
   "source": [
    "df = df[['clean_text','label']]"
   ]
  },
  {
   "cell_type": "code",
   "execution_count": 10,
   "id": "edd02a1d",
   "metadata": {
    "ExecuteTime": {
     "end_time": "2022-09-10T06:22:32.269415Z",
     "start_time": "2022-09-10T06:22:30.178483Z"
    }
   },
   "outputs": [],
   "source": [
    "df.to_csv('clean_data.csv')"
   ]
  },
  {
   "cell_type": "code",
   "execution_count": null,
   "id": "b3123fdd",
   "metadata": {},
   "outputs": [],
   "source": []
  }
 ],
 "metadata": {
  "kernelspec": {
   "display_name": "Python 3 (ipykernel)",
   "language": "python",
   "name": "python3"
  },
  "language_info": {
   "codemirror_mode": {
    "name": "ipython",
    "version": 3
   },
   "file_extension": ".py",
   "mimetype": "text/x-python",
   "name": "python",
   "nbconvert_exporter": "python",
   "pygments_lexer": "ipython3",
   "version": "3.9.12"
  }
 },
 "nbformat": 4,
 "nbformat_minor": 5
}
