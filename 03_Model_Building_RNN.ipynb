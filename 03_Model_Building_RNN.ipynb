{
 "cells": [
  {
   "cell_type": "code",
   "execution_count": 1,
   "id": "74d8752d",
   "metadata": {
    "ExecuteTime": {
     "end_time": "2022-09-11T06:16:33.389255Z",
     "start_time": "2022-09-11T06:16:25.440081Z"
    }
   },
   "outputs": [],
   "source": [
    "import pandas as pd \n",
    "import numpy as np\n",
    "from sklearn.model_selection import train_test_split\n",
    "from tensorflow.keras.preprocessing.text import Tokenizer\n",
    "import matplotlib.pyplot as plt\n",
    "import pickle \n",
    "from tensorflow.keras.preprocessing.sequence import pad_sequences\n",
    "from tensorflow.keras.models import Sequential\n",
    "from tensorflow.keras.layers import Dense,Embedding,SimpleRNN"
   ]
  },
  {
   "cell_type": "code",
   "execution_count": 2,
   "id": "b76e9c71",
   "metadata": {
    "ExecuteTime": {
     "end_time": "2022-09-11T06:16:34.463020Z",
     "start_time": "2022-09-11T06:16:33.389255Z"
    }
   },
   "outputs": [
    {
     "data": {
      "text/html": [
       "<div>\n",
       "<style scoped>\n",
       "    .dataframe tbody tr th:only-of-type {\n",
       "        vertical-align: middle;\n",
       "    }\n",
       "\n",
       "    .dataframe tbody tr th {\n",
       "        vertical-align: top;\n",
       "    }\n",
       "\n",
       "    .dataframe thead th {\n",
       "        text-align: right;\n",
       "    }\n",
       "</style>\n",
       "<table border=\"1\" class=\"dataframe\">\n",
       "  <thead>\n",
       "    <tr style=\"text-align: right;\">\n",
       "      <th></th>\n",
       "      <th>clean_text</th>\n",
       "      <th>label</th>\n",
       "    </tr>\n",
       "  </thead>\n",
       "  <tbody>\n",
       "    <tr>\n",
       "      <th>0</th>\n",
       "      <td>oily creamy expected ordered try highlight con...</td>\n",
       "      <td>0</td>\n",
       "    </tr>\n",
       "    <tr>\n",
       "      <th>1</th>\n",
       "      <td>palette decent price looking different shades ...</td>\n",
       "      <td>0</td>\n",
       "    </tr>\n",
       "    <tr>\n",
       "      <th>2</th>\n",
       "      <td>texture concealer pallet fantastic great cover...</td>\n",
       "      <td>0</td>\n",
       "    </tr>\n",
       "    <tr>\n",
       "      <th>3</th>\n",
       "      <td>really tell exactly thing powder kind oil ish ...</td>\n",
       "      <td>0</td>\n",
       "    </tr>\n",
       "    <tr>\n",
       "      <th>4</th>\n",
       "      <td>little smaller expected okay lasted long time ...</td>\n",
       "      <td>0</td>\n",
       "    </tr>\n",
       "  </tbody>\n",
       "</table>\n",
       "</div>"
      ],
      "text/plain": [
       "                                          clean_text  label\n",
       "0  oily creamy expected ordered try highlight con...      0\n",
       "1  palette decent price looking different shades ...      0\n",
       "2  texture concealer pallet fantastic great cover...      0\n",
       "3  really tell exactly thing powder kind oil ish ...      0\n",
       "4  little smaller expected okay lasted long time ...      0"
      ]
     },
     "execution_count": 2,
     "metadata": {},
     "output_type": "execute_result"
    }
   ],
   "source": [
    "df = pd.read_csv('clean_data.csv',index_col=0)\n",
    "df.head()"
   ]
  },
  {
   "cell_type": "code",
   "execution_count": 3,
   "id": "822095aa",
   "metadata": {
    "ExecuteTime": {
     "end_time": "2022-09-11T06:16:34.615660Z",
     "start_time": "2022-09-11T06:16:34.471218Z"
    }
   },
   "outputs": [],
   "source": [
    "df['clean_text'] = df['clean_text'].apply(lambda x:str(x))"
   ]
  },
  {
   "cell_type": "code",
   "execution_count": 4,
   "id": "2be09e92",
   "metadata": {
    "ExecuteTime": {
     "end_time": "2022-09-11T06:16:34.630942Z",
     "start_time": "2022-09-11T06:16:34.618170Z"
    }
   },
   "outputs": [],
   "source": [
    "x = df['clean_text']\n",
    "y = df['label']"
   ]
  },
  {
   "cell_type": "code",
   "execution_count": 5,
   "id": "e53ec51d",
   "metadata": {
    "ExecuteTime": {
     "end_time": "2022-09-11T06:16:34.707447Z",
     "start_time": "2022-09-11T06:16:34.634848Z"
    }
   },
   "outputs": [],
   "source": [
    "x_train,x_test,y_train,y_test = train_test_split(x,y,random_state=42,test_size=0.3)"
   ]
  },
  {
   "cell_type": "markdown",
   "id": "9f71f942",
   "metadata": {},
   "source": [
    "## Tokenization"
   ]
  },
  {
   "cell_type": "code",
   "execution_count": 6,
   "id": "c2454840",
   "metadata": {
    "ExecuteTime": {
     "end_time": "2022-09-11T06:16:34.722181Z",
     "start_time": "2022-09-11T06:16:34.709658Z"
    }
   },
   "outputs": [],
   "source": [
    "tok = Tokenizer(oov_token = '<UNK>')"
   ]
  },
  {
   "cell_type": "code",
   "execution_count": 7,
   "id": "129333ab",
   "metadata": {
    "ExecuteTime": {
     "end_time": "2022-09-11T06:16:34.737382Z",
     "start_time": "2022-09-11T06:16:34.726687Z"
    }
   },
   "outputs": [],
   "source": [
    "# we fit only on training data and just transform that on testing data"
   ]
  },
  {
   "cell_type": "code",
   "execution_count": 8,
   "id": "2b72a40b",
   "metadata": {
    "ExecuteTime": {
     "end_time": "2022-09-11T06:16:40.885148Z",
     "start_time": "2022-09-11T06:16:34.739749Z"
    }
   },
   "outputs": [],
   "source": [
    "#fitting on training data\n",
    "tok.fit_on_texts(x_train)"
   ]
  },
  {
   "cell_type": "code",
   "execution_count": 9,
   "id": "b52f22f8",
   "metadata": {
    "ExecuteTime": {
     "end_time": "2022-09-11T06:16:40.900784Z",
     "start_time": "2022-09-11T06:16:40.885148Z"
    }
   },
   "outputs": [
    {
     "data": {
      "text/plain": [
       "92705"
      ]
     },
     "execution_count": 9,
     "metadata": {},
     "output_type": "execute_result"
    }
   ],
   "source": [
    "len(tok.word_index)"
   ]
  },
  {
   "cell_type": "code",
   "execution_count": 10,
   "id": "2eb14860",
   "metadata": {
    "ExecuteTime": {
     "end_time": "2022-09-11T06:16:45.808542Z",
     "start_time": "2022-09-11T06:16:40.901504Z"
    }
   },
   "outputs": [],
   "source": [
    "# just transforming the test data\n",
    "train_sequences = tok.texts_to_sequences(x_train)\n",
    "test_sequences = tok.texts_to_sequences(x_test)"
   ]
  },
  {
   "cell_type": "code",
   "execution_count": 11,
   "id": "af4a73bc",
   "metadata": {
    "ExecuteTime": {
     "end_time": "2022-09-11T06:16:45.871031Z",
     "start_time": "2022-09-11T06:16:45.808542Z"
    }
   },
   "outputs": [],
   "source": [
    "with open('filename.pickle', 'wb') as handle:\n",
    "    pickle.dump(tok, handle, protocol=pickle.HIGHEST_PROTOCOL)\n"
   ]
  },
  {
   "cell_type": "markdown",
   "id": "f32da9cd",
   "metadata": {},
   "source": [
    "## Padding"
   ]
  },
  {
   "cell_type": "code",
   "execution_count": 12,
   "id": "f3788a37",
   "metadata": {
    "ExecuteTime": {
     "end_time": "2022-09-11T06:16:46.694673Z",
     "start_time": "2022-09-11T06:16:45.871031Z"
    }
   },
   "outputs": [
    {
     "data": {
      "text/plain": [
       "(array([77860., 78817., 41276., 23841., 14107.,  8816.,  5736.,  3758.,\n",
       "         2619.,  1945.]),\n",
       " array([  0.,  20.,  40.,  60.,  80., 100., 120., 140., 160., 180., 200.]),\n",
       " <BarContainer object of 10 artists>)"
      ]
     },
     "execution_count": 12,
     "metadata": {},
     "output_type": "execute_result"
    },
    {
     "data": {
      "image/png": "[encoded data removed]",
      "text/plain": [
       "<Figure size 432x288 with 1 Axes>"
      ]
     },
     "metadata": {
      "needs_background": "light"
     },
     "output_type": "display_data"
    }
   ],
   "source": [
    "plt.hist(df['clean_text'].apply(lambda x:len(x.split())),range = (0,200))"
   ]
  },
  {
   "cell_type": "code",
   "execution_count": 13,
   "id": "7297be70",
   "metadata": {
    "ExecuteTime": {
     "end_time": "2022-09-11T06:16:47.465600Z",
     "start_time": "2022-09-11T06:16:46.695410Z"
    }
   },
   "outputs": [],
   "source": [
    "x_train = pad_sequences(train_sequences,maxlen=100,padding='pre',truncating='pre')\n",
    "x_test = pad_sequences(test_sequences,maxlen=100,padding='pre',truncating='pre')"
   ]
  },
  {
   "cell_type": "markdown",
   "id": "8343beb7",
   "metadata": {},
   "source": [
    "## Model Fitting"
   ]
  },
  {
   "cell_type": "code",
   "execution_count": 14,
   "id": "800f7dd5",
   "metadata": {
    "ExecuteTime": {
     "end_time": "2022-09-11T06:16:47.956274Z",
     "start_time": "2022-09-11T06:16:47.465600Z"
    }
   },
   "outputs": [],
   "source": [
    "model = Sequential([\n",
    "    Embedding(92706,300),\n",
    "    SimpleRNN(128),\n",
    "    Dense(100,activation='relu'),\n",
    "    Dense(6,activation='softmax')  \n",
    "    \n",
    "])"
   ]
  },
  {
   "cell_type": "code",
   "execution_count": 15,
   "id": "dde95172",
   "metadata": {
    "ExecuteTime": {
     "end_time": "2022-09-11T06:16:47.971544Z",
     "start_time": "2022-09-11T06:16:47.957738Z"
    }
   },
   "outputs": [
    {
     "name": "stdout",
     "output_type": "stream",
     "text": [
      "Model: \"sequential\"\n",
      "_________________________________________________________________\n",
      " Layer (type)                Output Shape              Param #   \n",
      "=================================================================\n",
      " embedding (Embedding)       (None, None, 300)         27811800  \n",
      "                                                                 \n",
      " simple_rnn (SimpleRNN)      (None, 128)               54912     \n",
      "                                                                 \n",
      " dense (Dense)               (None, 100)               12900     \n",
      "                                                                 \n",
      " dense_1 (Dense)             (None, 6)                 606       \n",
      "                                                                 \n",
      "=================================================================\n",
      "Total params: 27,880,218\n",
      "Trainable params: 27,880,218\n",
      "Non-trainable params: 0\n",
      "_________________________________________________________________\n"
     ]
    }
   ],
   "source": [
    "model.summary()"
   ]
  },
  {
   "cell_type": "code",
   "execution_count": 16,
   "id": "40c89ab4",
   "metadata": {
    "ExecuteTime": {
     "end_time": "2022-09-11T06:16:47.986877Z",
     "start_time": "2022-09-11T06:16:47.973655Z"
    }
   },
   "outputs": [],
   "source": [
    "model.compile(optimizer='adam',loss= 'SparseCategoricalCrossentropy',metrics=['accuracy'])"
   ]
  },
  {
   "cell_type": "code",
   "execution_count": 17,
   "id": "d02d1a31",
   "metadata": {
    "ExecuteTime": {
     "end_time": "2022-09-11T07:07:46.069561Z",
     "start_time": "2022-09-11T06:16:47.988169Z"
    }
   },
   "outputs": [
    {
     "name": "stdout",
     "output_type": "stream",
     "text": [
      "Epoch 1/10\n",
      "371/371 [==============================] - 160s 428ms/step - loss: 0.6245 - accuracy: 0.7608 - val_loss: 0.3240 - val_accuracy: 0.9072\n",
      "Epoch 2/10\n",
      "371/371 [==============================] - 145s 392ms/step - loss: 0.3742 - accuracy: 0.8800 - val_loss: 0.3069 - val_accuracy: 0.9038\n",
      "Epoch 3/10\n",
      "371/371 [==============================] - 151s 406ms/step - loss: 0.3707 - accuracy: 0.8837 - val_loss: 0.3223 - val_accuracy: 0.9040\n",
      "Epoch 4/10\n",
      "371/371 [==============================] - 152s 409ms/step - loss: 0.3182 - accuracy: 0.8963 - val_loss: 0.3085 - val_accuracy: 0.9095\n",
      "Epoch 5/10\n",
      "371/371 [==============================] - 1644s 4s/step - loss: 0.5424 - accuracy: 0.8103 - val_loss: 0.4003 - val_accuracy: 0.8748\n",
      "Epoch 6/10\n",
      "371/371 [==============================] - 170s 458ms/step - loss: 0.3820 - accuracy: 0.8751 - val_loss: 0.3995 - val_accuracy: 0.8770\n",
      "Epoch 7/10\n",
      "371/371 [==============================] - 161s 434ms/step - loss: 0.2834 - accuracy: 0.9150 - val_loss: 0.3453 - val_accuracy: 0.9003\n",
      "Epoch 8/10\n",
      "371/371 [==============================] - 164s 442ms/step - loss: 0.2702 - accuracy: 0.9206 - val_loss: 0.2970 - val_accuracy: 0.9156\n",
      "Epoch 9/10\n",
      "371/371 [==============================] - 161s 433ms/step - loss: 0.1756 - accuracy: 0.9499 - val_loss: 0.2561 - val_accuracy: 0.9269\n",
      "Epoch 10/10\n",
      "371/371 [==============================] - 152s 409ms/step - loss: 0.2023 - accuracy: 0.9401 - val_loss: 0.3542 - val_accuracy: 0.9000\n"
     ]
    }
   ],
   "source": [
    "history = model.fit(x_train,y_train,batch_size=500,epochs=10,validation_data=(x_test,y_test))"
   ]
  },
  {
   "cell_type": "code",
   "execution_count": 18,
   "id": "d600f106",
   "metadata": {
    "ExecuteTime": {
     "end_time": "2022-09-11T07:07:46.190141Z",
     "start_time": "2022-09-11T07:07:46.069561Z"
    }
   },
   "outputs": [
    {
     "data": {
      "text/plain": [
       "<matplotlib.legend.Legend at 0x18cb01fdb20>"
      ]
     },
     "execution_count": 18,
     "metadata": {},
     "output_type": "execute_result"
    },
    {
     "data": {
      "image/png": "[encoded data removed]",
      "text/plain": [
       "<Figure size 432x288 with 1 Axes>"
      ]
     },
     "metadata": {
      "needs_background": "light"
     },
     "output_type": "display_data"
    }
   ],
   "source": [
    "plt.plot(history.history['loss'])\n",
    "plt.plot(history.history['val_loss'])\n",
    "plt.xlabel('Epochs')\n",
    "plt.ylabel('Loss')\n",
    "plt.title('Loss Plot')\n",
    "plt.legend(['train','test'])"
   ]
  },
  {
   "cell_type": "code",
   "execution_count": 19,
   "id": "ecaaff18",
   "metadata": {
    "ExecuteTime": {
     "end_time": "2022-09-11T07:07:46.723314Z",
     "start_time": "2022-09-11T07:07:46.190141Z"
    }
   },
   "outputs": [],
   "source": [
    "model.save('RNN_Model.h5')"
   ]
  },
  {
   "cell_type": "code",
   "execution_count": null,
   "id": "33b4f908",
   "metadata": {},
   "outputs": [],
   "source": []
  }
 ],
 "metadata": {
  "kernelspec": {
   "display_name": "Python 3 (ipykernel)",
   "language": "python",
   "name": "python3"
  },
  "language_info": {
   "codemirror_mode": {
    "name": "ipython",
    "version": 3
   },
   "file_extension": ".py",
   "mimetype": "text/x-python",
   "name": "python",
   "nbconvert_exporter": "python",
   "pygments_lexer": "ipython3",
   "version": "3.9.12"
  }
 },
 "nbformat": 4,
 "nbformat_minor": 5
}
